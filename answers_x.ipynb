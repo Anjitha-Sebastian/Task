{
 "cells": [
  {
   "cell_type": "markdown",
   "metadata": {},
   "source": [
    "### Question1-Solution"
   ]
  },
  {
   "cell_type": "code",
   "execution_count": 1,
   "metadata": {},
   "outputs": [],
   "source": [
    "def findProcessors(start, end, n):\n",
    "    start.sort()\n",
    "    stop.sort()\n",
    "    processor_required = 1\n",
    "    min_processor = 1\n",
    "    l = 1\n",
    "    m = 0\n",
    "    while (l < n and m < n):\n",
    "        if (start[l] <= stop[m]):\n",
    "            processor_required += 1\n",
    "            l += 1\n",
    "        elif (start[l] > stop[m]):\n",
    " \n",
    "            processor_required -= 1\n",
    "            m += 1\n",
    "        if (processor_required > min_processor):\n",
    "            min_processor = processor_required\n",
    " \n",
    "    return min_processor"
   ]
  },
  {
   "cell_type": "code",
   "execution_count": 2,
   "metadata": {},
   "outputs": [],
   "source": [
    "start=[900,940,950,1000,1500,1600]\n",
    "stop=[910,1020,1010,1015,1620,1700]\n",
    "n=len(start)"
   ]
  },
  {
   "cell_type": "code",
   "execution_count": 3,
   "metadata": {},
   "outputs": [
    {
     "data": {
      "text/plain": [
       "3"
      ]
     },
     "execution_count": 3,
     "metadata": {},
     "output_type": "execute_result"
    }
   ],
   "source": [
    "findProcessors(start, stop, n)"
   ]
  },
  {
   "cell_type": "markdown",
   "metadata": {},
   "source": [
    "### Question 3-Answer"
   ]
  },
  {
   "cell_type": "code",
   "execution_count": 4,
   "metadata": {},
   "outputs": [],
   "source": [
    "def deletion_order(data,priority):\n",
    "    sortf=[]\n",
    "    sortdate=[]\n",
    "    if priority=='frequency':\n",
    "        sortf=sorted(data, key = lambda i: i['frequency'])\n",
    "        for data in sortf:\n",
    "            print(data)\n",
    "    else:\n",
    "        sortdate=sorted(data, key = lambda i: i['last_updated'])\n",
    "        for data in sortdate:\n",
    "            print(data)"
   ]
  },
  {
   "cell_type": "code",
   "execution_count": 5,
   "metadata": {},
   "outputs": [
    {
     "name": "stdout",
     "output_type": "stream",
     "text": [
      "{<built-in function id>: 'd1', 'frequency': 7, 'last_updated': '18-1-2021'}\n",
      "{<built-in function id>: 'd2', 'frequency': 8, 'last_updated': '28-1-2021'}\n"
     ]
    }
   ],
   "source": [
    "d=[{id:'d1','frequency':7,'last_updated':'18-1-2021'},{id:'d2','frequency':8,'last_updated':'28-1-2021'}]\n",
    "deletion_order(d,priority='last_updated')"
   ]
  },
  {
   "cell_type": "code",
   "execution_count": 6,
   "metadata": {},
   "outputs": [
    {
     "name": "stdout",
     "output_type": "stream",
     "text": [
      "{<built-in function id>: 'd1', 'frequency': 7, 'last_updated': '18-1-2021'}\n",
      "{<built-in function id>: 'd2', 'frequency': 8, 'last_updated': '28-1-2021'}\n"
     ]
    }
   ],
   "source": [
    "deletion_order(d,priority='frequency')"
   ]
  },
  {
   "cell_type": "code",
   "execution_count": null,
   "metadata": {},
   "outputs": [],
   "source": []
  }
 ],
 "metadata": {
  "kernelspec": {
   "display_name": "Python 3",
   "language": "python",
   "name": "python3"
  },
  "language_info": {
   "codemirror_mode": {
    "name": "ipython",
    "version": 3
   },
   "file_extension": ".py",
   "mimetype": "text/x-python",
   "name": "python",
   "nbconvert_exporter": "python",
   "pygments_lexer": "ipython3",
   "version": "3.8.5"
  }
 },
 "nbformat": 4,
 "nbformat_minor": 4
}
